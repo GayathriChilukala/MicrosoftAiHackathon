{
  "cells": [
    {
      "cell_type": "code",
      "execution_count": 1,
      "metadata": {
        "colab": {
          "base_uri": "https://localhost:8080/"
        },
        "id": "SRDdgOT7Eo4j",
        "outputId": "b4371dbe-0dbb-41e0-e3c7-606bb4d5ebe5"
      },
      "outputs": [
        {
          "name": "stdout",
          "output_type": "stream",
          "text": [
            "Requirement already satisfied: requests in /usr/local/lib/python3.11/dist-packages (2.32.3)\n",
            "Requirement already satisfied: charset-normalizer<4,>=2 in /usr/local/lib/python3.11/dist-packages (from requests) (3.4.1)\n",
            "Requirement already satisfied: idna<4,>=2.5 in /usr/local/lib/python3.11/dist-packages (from requests) (3.10)\n",
            "Requirement already satisfied: urllib3<3,>=1.21.1 in /usr/local/lib/python3.11/dist-packages (from requests) (2.3.0)\n",
            "Requirement already satisfied: certifi>=2017.4.17 in /usr/local/lib/python3.11/dist-packages (from requests) (2025.1.31)\n"
          ]
        }
      ],
      "source": [
        "!pip install requests\n"
      ]
    },
    {
      "cell_type": "code",
      "execution_count": 5,
      "metadata": {
        "colab": {
          "base_uri": "https://localhost:8080/"
        },
        "id": "rQ-ucy17ElLS",
        "outputId": "7ffedf97-57db-41f6-d578-0581ac1cec78"
      },
      "outputs": [
        {
          "name": "stdout",
          "output_type": "stream",
          "text": [
            "Object: seating, Confidence: 0.643, Bounding Box: {'x': 240, 'y': 224, 'w': 124, 'h': 82}\n",
            "Object: chair, Confidence: 0.591, Bounding Box: {'x': 76, 'y': 221, 'w': 132, 'h': 124}\n",
            "Object: chair, Confidence: 0.824, Bounding Box: {'x': 535, 'y': 236, 'w': 105, 'h': 173}\n",
            "Object: chair, Confidence: 0.615, Bounding Box: {'x': 264, 'y': 250, 'w': 320, 'h': 172}\n"
          ]
        }
      ],
      "source": [
        "import requests\n",
        "\n",
        "\n",
        "subscription_key = 'your_subscription_key'\n",
        "endpoint = 'your_endpoint'\n",
        "\n",
        "# API URL for object detection\n",
        "url = endpoint + \"/vision/v3.1/detect\"\n",
        "\n",
        "# Path to the image you want to analyze\n",
        "image_path = \"/content/file.jpg\"\n",
        "\n",
        "# Open image file\n",
        "image_data = open(image_path, \"rb\").read()\n",
        "\n",
        "# Set headers\n",
        "headers = {\n",
        "    'Ocp-Apim-Subscription-Key': subscription_key,\n",
        "    'Content-Type': 'application/octet-stream',\n",
        "}\n",
        "\n",
        "# Send POST request to Azure Computer Vision API\n",
        "response = requests.post(url, headers=headers, data=image_data)\n",
        "\n",
        "# Check if the request was successful\n",
        "if response.status_code == 200:\n",
        "    objects = response.json()\n",
        "    # Extract and print detected objects and their locations\n",
        "    for obj in objects[\"objects\"]:\n",
        "        print(f\"Object: {obj['object']}, Confidence: {obj['confidence']}, Bounding Box: {obj['rectangle']}\")\n",
        "else:\n",
        "    print(f\"Error: {response.status_code}, {response.text}\")\n"
      ]
    },
    {
      "cell_type": "code",
      "execution_count": null,
      "metadata": {
        "id": "DB34KDb7EntT"
      },
      "outputs": [],
      "source": []
    }
  ],
  "metadata": {
    "colab": {
      "provenance": []
    },
    "kernelspec": {
      "display_name": "Python 3",
      "name": "python3"
    },
    "language_info": {
      "name": "python"
    }
  },
  "nbformat": 4,
  "nbformat_minor": 0
}
